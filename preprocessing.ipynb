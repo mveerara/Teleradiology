{
  "nbformat": 4,
  "nbformat_minor": 0,
  "metadata": {
    "hide_input": false,
    "kernelspec": {
      "display_name": "Python 3",
      "language": "python",
      "name": "python3"
    },
    "language_info": {
      "codemirror_mode": {
        "name": "ipython",
        "version": 3
      },
      "file_extension": ".py",
      "mimetype": "text/x-python",
      "name": "python",
      "nbconvert_exporter": "python",
      "pygments_lexer": "ipython3",
      "version": "3.8.5"
    },
    "toc": {
      "base_numbering": 1,
      "nav_menu": {},
      "number_sections": true,
      "sideBar": true,
      "skip_h1_title": false,
      "title_cell": "Table of Contents",
      "title_sidebar": "Contents",
      "toc_cell": false,
      "toc_position": {},
      "toc_section_display": true,
      "toc_window_display": false
    },
    "varInspector": {
      "cols": {
        "lenName": 16,
        "lenType": 16,
        "lenVar": 40
      },
      "kernels_config": {
        "python": {
          "delete_cmd_postfix": "",
          "delete_cmd_prefix": "del ",
          "library": "var_list.py",
          "varRefreshCmd": "print(var_dic_list())"
        },
        "r": {
          "delete_cmd_postfix": ") ",
          "delete_cmd_prefix": "rm(",
          "library": "var_list.r",
          "varRefreshCmd": "cat(var_dic_list()) "
        }
      },
      "types_to_exclude": [
        "module",
        "function",
        "builtin_function_or_method",
        "instance",
        "_Feature"
      ],
      "window_display": false
    },
    "colab": {
      "name": "preprocessing.ipynb",
      "provenance": [],
      "collapsed_sections": [],
      "include_colab_link": true
    },
    "accelerator": "GPU"
  },
  "cells": [
    {
      "cell_type": "markdown",
      "metadata": {
        "id": "view-in-github",
        "colab_type": "text"
      },
      "source": [
        "<a href=\"https://colab.research.google.com/github/mveerara/Teleradiology/blob/main/preprocessing.ipynb\" target=\"_parent\"><img src=\"https://colab.research.google.com/assets/colab-badge.svg\" alt=\"Open In Colab\"/></a>"
      ]
    },
    {
      "cell_type": "code",
      "metadata": {
        "ExecuteTime": {
          "end_time": "2021-06-12T05:15:15.990479Z",
          "start_time": "2021-06-12T05:15:09.531914Z"
        },
        "id": "HrSHKpjLhD0A"
      },
      "source": [
        "import numpy as np\n",
        "import matplotlib.pyplot as plt\n",
        "import pandas as pd\n",
        "import imageio\n",
        "from os import listdir\n",
        "import skimage.transform\n",
        "import pickle\n",
        "import sys, os\n",
        "from sklearn.preprocessing import MultiLabelBinarizer"
      ],
      "execution_count": null,
      "outputs": []
    },
    {
      "cell_type": "code",
      "metadata": {
        "id": "kuZEiHgBl7dG"
      },
      "source": [
        "from google.colab import drive"
      ],
      "execution_count": null,
      "outputs": []
    },
    {
      "cell_type": "code",
      "metadata": {
        "colab": {
          "base_uri": "https://localhost:8080/"
        },
        "id": "fgHtjQdal-fs",
        "outputId": "634547c2-610a-463d-88b6-bbdcf048c4d0"
      },
      "source": [
        "drive.mount('/MyDrive')"
      ],
      "execution_count": null,
      "outputs": [
        {
          "output_type": "stream",
          "text": [
            "Mounted at /MyDrive\n"
          ],
          "name": "stdout"
        }
      ]
    },
    {
      "cell_type": "code",
      "metadata": {
        "colab": {
          "base_uri": "https://localhost:8080/"
        },
        "id": "vufUbZEUiNPj",
        "outputId": "1282ac62-27de-47ce-b851-43a1595ce201"
      },
      "source": [
        "!pwd"
      ],
      "execution_count": null,
      "outputs": [
        {
          "output_type": "stream",
          "text": [
            "/content\n"
          ],
          "name": "stdout"
        }
      ]
    },
    {
      "cell_type": "code",
      "metadata": {
        "id": "DSTGjpBckZ3P"
      },
      "source": [
        "os.environ['CUDA_VISIBLE_DEVICES'] = \"0\""
      ],
      "execution_count": null,
      "outputs": []
    },
    {
      "cell_type": "code",
      "metadata": {
        "id": "U5S_XSz_y0gj",
        "colab": {
          "base_uri": "https://localhost:8080/"
        },
        "outputId": "fa5fcec3-26ff-4c80-a07e-245d1f5b8eda"
      },
      "source": [
        "zip_path = '/MyDrive/MyDrive/Teleradiology/Example_Program/example1/Dataset/images/images.zip'\n",
        "!cp \"{zip_path}\" .\n",
        "!unzip -q images.zip\n",
        "!rm images.zip"
      ],
      "execution_count": null,
      "outputs": [
        {
          "output_type": "stream",
          "text": [
            "^C\n",
            "[images.zip]\n",
            "  End-of-central-directory signature not found.  Either this file is not\n",
            "  a zipfile, or it constitutes one disk of a multi-part archive.  In the\n",
            "  latter case the central directory and zipfile comment will be found on\n",
            "  the last disk(s) of this archive.\n",
            "unzip:  cannot find zipfile directory in one of images.zip or\n",
            "        images.zip.zip, and cannot find images.zip.ZIP, period.\n"
          ],
          "name": "stdout"
        }
      ]
    },
    {
      "cell_type": "code",
      "metadata": {
        "ExecuteTime": {
          "end_time": "2021-06-12T05:15:18.677281Z",
          "start_time": "2021-06-12T05:15:18.672297Z"
        },
        "id": "pAw0nMZKhD0G"
      },
      "source": [
        "image_folder_path = '/MyDrive/MyDrive/Teleradiology/Example_Program/example1/Dataset/images/images' #'/content/images' #sys.argv[1] # folder contain all image\n"
      ],
      "execution_count": null,
      "outputs": []
    },
    {
      "cell_type": "code",
      "metadata": {
        "id": "ZzIIvvCKfUAF"
      },
      "source": [
        "data_entry_path = '/MyDrive/MyDrive/Teleradiology/Example_Program/example1/Dataset/Data_Entry_2017_v2020.csv' #sys.argv[2] \n",
        "bbox_list_path = '/MyDrive/MyDrive/Teleradiology/Example_Program/example1/Dataset/BBox_List_2017.csv' #sys.argv[3]\n",
        "train_txt_path = '/MyDrive/MyDrive/Teleradiology/Example_Program/example1/Dataset/train_val_list.txt' #sys.argv[4]\n",
        "valid_txt_path = '/MyDrive/MyDrive/Teleradiology/Example_Program/example1/Dataset/test_list.txt' #sys.argv[5]\n",
        "data_path = '/MyDrive/MyDrive/Teleradiology/Example_Program/example1/Dataset/output' #sys.argv[6] # ouput folder for preprocessed data"
      ],
      "execution_count": null,
      "outputs": []
    },
    {
      "cell_type": "code",
      "metadata": {
        "colab": {
          "base_uri": "https://localhost:8080/"
        },
        "id": "04Z04nI1lZAG",
        "outputId": "fc18bc5e-5559-4d1c-a48a-21347531bb63"
      },
      "source": [
        "image_folder_path,data_entry_path,bbox_list_path,train_txt_path,valid_txt_path,data_path"
      ],
      "execution_count": null,
      "outputs": [
        {
          "output_type": "execute_result",
          "data": {
            "text/plain": [
              "('/MyDrive/MyDrive/Teleradiology/Example_Program/example1/Dataset/images/images',\n",
              " '/MyDrive/MyDrive/Teleradiology/Example_Program/example1/Dataset/Data_Entry_2017_v2020.csv',\n",
              " '/MyDrive/MyDrive/Teleradiology/Example_Program/example1/Dataset/BBox_List_2017.csv',\n",
              " '/MyDrive/MyDrive/Teleradiology/Example_Program/example1/Dataset/train_val_list.txt',\n",
              " '/MyDrive/MyDrive/Teleradiology/Example_Program/example1/Dataset/test_list.txt',\n",
              " '/MyDrive/MyDrive/Teleradiology/Example_Program/example1/Dataset/output')"
            ]
          },
          "metadata": {
            "tags": []
          },
          "execution_count": 11
        }
      ]
    },
    {
      "cell_type": "code",
      "metadata": {
        "ExecuteTime": {
          "end_time": "2021-06-12T05:15:20.405154Z",
          "start_time": "2021-06-12T05:15:20.392189Z"
        },
        "id": "jG1gjCfzhD0H"
      },
      "source": [
        "def get_labels(pic_id):\n",
        "    labels = meta_data.loc[meta_data[\"Image Index\"]==pic_id,\"Finding Labels\"]\n",
        "    return labels.tolist()[0].split(\"|\")"
      ],
      "execution_count": null,
      "outputs": []
    },
    {
      "cell_type": "code",
      "metadata": {
        "ExecuteTime": {
          "end_time": "2021-06-12T05:15:23.395619Z",
          "start_time": "2021-06-12T05:15:23.002278Z"
        },
        "id": "nZEIgjiWhD0I"
      },
      "source": [
        "# load data\n",
        "meta_data = pd.read_csv(data_entry_path)\n",
        "bbox_list = pd.read_csv(bbox_list_path)\n",
        "with open(train_txt_path, \"r\") as f:\n",
        "    train_list = [ i.strip() for i in f.readlines()]\n",
        "with open(valid_txt_path, \"r\") as f:\n",
        "    valid_list = [ i.strip() for i in f.readlines()]\n",
        "label_eight = list(np.unique(bbox_list[\"Finding Label\"])) + [\"No Finding\"]"
      ],
      "execution_count": null,
      "outputs": []
    },
    {
      "cell_type": "code",
      "metadata": {
        "id": "pUvlRJuDZ89g"
      },
      "source": [
        "!ls "
      ],
      "execution_count": null,
      "outputs": []
    },
    {
      "cell_type": "code",
      "metadata": {
        "ExecuteTime": {
          "end_time": "2021-06-12T05:17:37.508860Z",
          "start_time": "2021-06-12T05:15:27.054285Z"
        },
        "colab": {
          "base_uri": "https://localhost:8080/",
          "height": 426
        },
        "id": "rs3LrEbOhD0J",
        "outputId": "6f343ae8-a93c-4ba5-86eb-62ebc685aac8"
      },
      "source": [
        "# transform training images\n",
        "print(\"training example:\",len(train_list))\n",
        "print(\"take care of your RAM here !!!\")\n",
        "train_X = []\n",
        "for i in range(len(train_list[0:2000])): # only selecting 2000 images \n",
        "    image_path = os.path.join(image_folder_path,train_list[i])\n",
        "    try:\n",
        "        img = imageio.imread(image_path)#for filefolder in os.listdir(data_folder):      \n",
        "        #filefolder = data_folder + \"\\\\\" + filefolder\n",
        "    except OSError:\n",
        "        pass\n",
        "    #img = imageio.imread(image_path)\n",
        "    if img.shape != (1024,1024): # there some image with shape (1024,1024,4) in training set\n",
        "        img = img[:,:,0]\n",
        "    img_resized = skimage.transform.resize(img,(256,256)) # or use img[::4] here\n",
        "    train_X.append((np.array(img_resized)/255).reshape(256,256,1))\n",
        "    if i % 3000==0:\n",
        "        print(i)"
      ],
      "execution_count": null,
      "outputs": [
        {
          "output_type": "stream",
          "text": [
            "training example: 86524\n",
            "take care of your RAM here !!!\n",
            "0\n"
          ],
          "name": "stdout"
        },
        {
          "output_type": "error",
          "ename": "KeyboardInterrupt",
          "evalue": "ignored",
          "traceback": [
            "\u001b[0;31m---------------------------------------------------------------------------\u001b[0m",
            "\u001b[0;31mKeyboardInterrupt\u001b[0m                         Traceback (most recent call last)",
            "\u001b[0;32m<ipython-input-14-77afddb1c6c2>\u001b[0m in \u001b[0;36m<module>\u001b[0;34m()\u001b[0m\n\u001b[1;32m     13\u001b[0m     \u001b[0;32mif\u001b[0m \u001b[0mimg\u001b[0m\u001b[0;34m.\u001b[0m\u001b[0mshape\u001b[0m \u001b[0;34m!=\u001b[0m \u001b[0;34m(\u001b[0m\u001b[0;36m1024\u001b[0m\u001b[0;34m,\u001b[0m\u001b[0;36m1024\u001b[0m\u001b[0;34m)\u001b[0m\u001b[0;34m:\u001b[0m \u001b[0;31m# there some image with shape (1024,1024,4) in training set\u001b[0m\u001b[0;34m\u001b[0m\u001b[0;34m\u001b[0m\u001b[0m\n\u001b[1;32m     14\u001b[0m         \u001b[0mimg\u001b[0m \u001b[0;34m=\u001b[0m \u001b[0mimg\u001b[0m\u001b[0;34m[\u001b[0m\u001b[0;34m:\u001b[0m\u001b[0;34m,\u001b[0m\u001b[0;34m:\u001b[0m\u001b[0;34m,\u001b[0m\u001b[0;36m0\u001b[0m\u001b[0;34m]\u001b[0m\u001b[0;34m\u001b[0m\u001b[0;34m\u001b[0m\u001b[0m\n\u001b[0;32m---> 15\u001b[0;31m     \u001b[0mimg_resized\u001b[0m \u001b[0;34m=\u001b[0m \u001b[0mskimage\u001b[0m\u001b[0;34m.\u001b[0m\u001b[0mtransform\u001b[0m\u001b[0;34m.\u001b[0m\u001b[0mresize\u001b[0m\u001b[0;34m(\u001b[0m\u001b[0mimg\u001b[0m\u001b[0;34m,\u001b[0m\u001b[0;34m(\u001b[0m\u001b[0;36m256\u001b[0m\u001b[0;34m,\u001b[0m\u001b[0;36m256\u001b[0m\u001b[0;34m)\u001b[0m\u001b[0;34m)\u001b[0m \u001b[0;31m# or use img[::4] here\u001b[0m\u001b[0;34m\u001b[0m\u001b[0;34m\u001b[0m\u001b[0m\n\u001b[0m\u001b[1;32m     16\u001b[0m     \u001b[0mtrain_X\u001b[0m\u001b[0;34m.\u001b[0m\u001b[0mappend\u001b[0m\u001b[0;34m(\u001b[0m\u001b[0;34m(\u001b[0m\u001b[0mnp\u001b[0m\u001b[0;34m.\u001b[0m\u001b[0marray\u001b[0m\u001b[0;34m(\u001b[0m\u001b[0mimg_resized\u001b[0m\u001b[0;34m)\u001b[0m\u001b[0;34m/\u001b[0m\u001b[0;36m255\u001b[0m\u001b[0;34m)\u001b[0m\u001b[0;34m.\u001b[0m\u001b[0mreshape\u001b[0m\u001b[0;34m(\u001b[0m\u001b[0;36m256\u001b[0m\u001b[0;34m,\u001b[0m\u001b[0;36m256\u001b[0m\u001b[0;34m,\u001b[0m\u001b[0;36m1\u001b[0m\u001b[0;34m)\u001b[0m\u001b[0;34m)\u001b[0m\u001b[0;34m\u001b[0m\u001b[0;34m\u001b[0m\u001b[0m\n\u001b[1;32m     17\u001b[0m     \u001b[0;32mif\u001b[0m \u001b[0mi\u001b[0m \u001b[0;34m%\u001b[0m \u001b[0;36m3000\u001b[0m\u001b[0;34m==\u001b[0m\u001b[0;36m0\u001b[0m\u001b[0;34m:\u001b[0m\u001b[0;34m\u001b[0m\u001b[0;34m\u001b[0m\u001b[0m\n",
            "\u001b[0;32m/usr/local/lib/python3.7/dist-packages/skimage/transform/_warps.py\u001b[0m in \u001b[0;36mresize\u001b[0;34m(image, output_shape, order, mode, cval, clip, preserve_range, anti_aliasing, anti_aliasing_sigma)\u001b[0m\n\u001b[1;32m    134\u001b[0m \u001b[0;34m\u001b[0m\u001b[0m\n\u001b[1;32m    135\u001b[0m         image = ndi.gaussian_filter(image, anti_aliasing_sigma,\n\u001b[0;32m--> 136\u001b[0;31m                                     cval=cval, mode=ndi_mode)\n\u001b[0m\u001b[1;32m    137\u001b[0m \u001b[0;34m\u001b[0m\u001b[0m\n\u001b[1;32m    138\u001b[0m     \u001b[0;31m# 2-dimensional interpolation\u001b[0m\u001b[0;34m\u001b[0m\u001b[0;34m\u001b[0m\u001b[0;34m\u001b[0m\u001b[0m\n",
            "\u001b[0;32m/usr/local/lib/python3.7/dist-packages/scipy/ndimage/filters.py\u001b[0m in \u001b[0;36mgaussian_filter\u001b[0;34m(input, sigma, order, output, mode, cval, truncate)\u001b[0m\n\u001b[1;32m    297\u001b[0m         \u001b[0;32mfor\u001b[0m \u001b[0maxis\u001b[0m\u001b[0;34m,\u001b[0m \u001b[0msigma\u001b[0m\u001b[0;34m,\u001b[0m \u001b[0morder\u001b[0m\u001b[0;34m,\u001b[0m \u001b[0mmode\u001b[0m \u001b[0;32min\u001b[0m \u001b[0maxes\u001b[0m\u001b[0;34m:\u001b[0m\u001b[0;34m\u001b[0m\u001b[0;34m\u001b[0m\u001b[0m\n\u001b[1;32m    298\u001b[0m             gaussian_filter1d(input, sigma, axis, order, output,\n\u001b[0;32m--> 299\u001b[0;31m                               mode, cval, truncate)\n\u001b[0m\u001b[1;32m    300\u001b[0m             \u001b[0minput\u001b[0m \u001b[0;34m=\u001b[0m \u001b[0moutput\u001b[0m\u001b[0;34m\u001b[0m\u001b[0;34m\u001b[0m\u001b[0m\n\u001b[1;32m    301\u001b[0m     \u001b[0;32melse\u001b[0m\u001b[0;34m:\u001b[0m\u001b[0;34m\u001b[0m\u001b[0;34m\u001b[0m\u001b[0m\n",
            "\u001b[0;32m/usr/local/lib/python3.7/dist-packages/scipy/ndimage/filters.py\u001b[0m in \u001b[0;36mgaussian_filter1d\u001b[0;34m(input, sigma, axis, order, output, mode, cval, truncate)\u001b[0m\n\u001b[1;32m    215\u001b[0m     \u001b[0;31m# Since we are calling correlate, not convolve, revert the kernel\u001b[0m\u001b[0;34m\u001b[0m\u001b[0;34m\u001b[0m\u001b[0;34m\u001b[0m\u001b[0m\n\u001b[1;32m    216\u001b[0m     \u001b[0mweights\u001b[0m \u001b[0;34m=\u001b[0m \u001b[0m_gaussian_kernel1d\u001b[0m\u001b[0;34m(\u001b[0m\u001b[0msigma\u001b[0m\u001b[0;34m,\u001b[0m \u001b[0morder\u001b[0m\u001b[0;34m,\u001b[0m \u001b[0mlw\u001b[0m\u001b[0;34m)\u001b[0m\u001b[0;34m[\u001b[0m\u001b[0;34m:\u001b[0m\u001b[0;34m:\u001b[0m\u001b[0;34m-\u001b[0m\u001b[0;36m1\u001b[0m\u001b[0;34m]\u001b[0m\u001b[0;34m\u001b[0m\u001b[0;34m\u001b[0m\u001b[0m\n\u001b[0;32m--> 217\u001b[0;31m     \u001b[0;32mreturn\u001b[0m \u001b[0mcorrelate1d\u001b[0m\u001b[0;34m(\u001b[0m\u001b[0minput\u001b[0m\u001b[0;34m,\u001b[0m \u001b[0mweights\u001b[0m\u001b[0;34m,\u001b[0m \u001b[0maxis\u001b[0m\u001b[0;34m,\u001b[0m \u001b[0moutput\u001b[0m\u001b[0;34m,\u001b[0m \u001b[0mmode\u001b[0m\u001b[0;34m,\u001b[0m \u001b[0mcval\u001b[0m\u001b[0;34m,\u001b[0m \u001b[0;36m0\u001b[0m\u001b[0;34m)\u001b[0m\u001b[0;34m\u001b[0m\u001b[0;34m\u001b[0m\u001b[0m\n\u001b[0m\u001b[1;32m    218\u001b[0m \u001b[0;34m\u001b[0m\u001b[0m\n\u001b[1;32m    219\u001b[0m \u001b[0;34m\u001b[0m\u001b[0m\n",
            "\u001b[0;32m/usr/local/lib/python3.7/dist-packages/scipy/ndimage/filters.py\u001b[0m in \u001b[0;36mcorrelate1d\u001b[0;34m(input, weights, axis, output, mode, cval, origin)\u001b[0m\n\u001b[1;32m     93\u001b[0m     \u001b[0mmode\u001b[0m \u001b[0;34m=\u001b[0m \u001b[0m_ni_support\u001b[0m\u001b[0;34m.\u001b[0m\u001b[0m_extend_mode_to_code\u001b[0m\u001b[0;34m(\u001b[0m\u001b[0mmode\u001b[0m\u001b[0;34m)\u001b[0m\u001b[0;34m\u001b[0m\u001b[0;34m\u001b[0m\u001b[0m\n\u001b[1;32m     94\u001b[0m     _nd_image.correlate1d(input, weights, axis, output, mode, cval,\n\u001b[0;32m---> 95\u001b[0;31m                           origin)\n\u001b[0m\u001b[1;32m     96\u001b[0m     \u001b[0;32mreturn\u001b[0m \u001b[0moutput\u001b[0m\u001b[0;34m\u001b[0m\u001b[0;34m\u001b[0m\u001b[0m\n\u001b[1;32m     97\u001b[0m \u001b[0;34m\u001b[0m\u001b[0m\n",
            "\u001b[0;31mKeyboardInterrupt\u001b[0m: "
          ]
        }
      ]
    },
    {
      "cell_type": "code",
      "metadata": {
        "ExecuteTime": {
          "end_time": "2021-06-12T05:20:04.149064Z",
          "start_time": "2021-06-12T05:20:04.141122Z"
        },
        "colab": {
          "base_uri": "https://localhost:8080/"
        },
        "id": "qlAb1p1fhD0L",
        "outputId": "ce3cdc3d-fc01-45aa-aabf-868adea007fb"
      },
      "source": [
        "print(len(train_X))"
      ],
      "execution_count": null,
      "outputs": [
        {
          "output_type": "stream",
          "text": [
            "2000\n"
          ],
          "name": "stdout"
        }
      ]
    },
    {
      "cell_type": "code",
      "metadata": {
        "ExecuteTime": {
          "end_time": "2021-06-12T05:20:59.313400Z",
          "start_time": "2021-06-12T05:20:31.679833Z"
        },
        "id": "dS0g0WA5hD0M"
      },
      "source": [
        "train_X = np.array(train_X)\n",
        "np.save(os.path.join(data_path,\"train_X_small.npy\"), train_X)"
      ],
      "execution_count": null,
      "outputs": []
    },
    {
      "cell_type": "code",
      "metadata": {
        "ExecuteTime": {
          "end_time": "2021-06-12T05:32:17.558448Z",
          "start_time": "2021-06-12T05:30:15.172858Z"
        },
        "colab": {
          "base_uri": "https://localhost:8080/"
        },
        "id": "3D6Xb5hqhD0N",
        "outputId": "15e9688a-e13e-4782-a868-ae791d991c2d"
      },
      "source": [
        "# transform validation images\n",
        "print(\"validation example:\",len(valid_list))\n",
        "valid_X = []\n",
        "for i in range(len(valid_list[0:2000])):\n",
        "    image_path = os.path.join(image_folder_path,valid_list[i])\n",
        "    try:\n",
        "        img = imageio.imread(image_path)#for filefolder in os.listdir(data_folder):      \n",
        "        #filefolder = data_folder + \"\\\\\" + filefolder\n",
        "    except OSError:\n",
        "        pass\n",
        "    #img = imageio.imread(image_path)\n",
        "    if img.shape != (1024,1024):\n",
        "        img = img[:,:,0]\n",
        "    img_resized = skimage.transform.resize(img,(256,256))\n",
        "#     if img.shape != (1024,1024):\n",
        "#             train_X.append(img[:,:,0])\n",
        "#     else:\n",
        "    valid_X.append((np.array(img_resized)/255).reshape(256,256,1))\n",
        "    if i % 3000==0:\n",
        "        print(i)"
      ],
      "execution_count": null,
      "outputs": [
        {
          "output_type": "stream",
          "text": [
            "validation example: 25596\n",
            "0\n"
          ],
          "name": "stdout"
        }
      ]
    },
    {
      "cell_type": "code",
      "metadata": {
        "ExecuteTime": {
          "end_time": "2021-06-11T07:47:55.890139Z",
          "start_time": "2021-06-11T07:47:44.924525Z"
        },
        "id": "AhThCQiBhD0O"
      },
      "source": [
        "valid_X = np.array(valid_X)\n",
        "np.save(os.path.join(data_path,\"valid_X_small.npy\"), valid_X)"
      ],
      "execution_count": null,
      "outputs": []
    },
    {
      "cell_type": "code",
      "metadata": {
        "ExecuteTime": {
          "end_time": "2021-06-11T07:50:49.833981Z",
          "start_time": "2021-06-11T07:50:16.471293Z"
        },
        "colab": {
          "base_uri": "https://localhost:8080/"
        },
        "id": "v4yOVtUHhD0P",
        "outputId": "862a9fd3-8c57-409d-c126-4f7d53292e92"
      },
      "source": [
        "# process label\n",
        "print(\"label preprocessing\")\n",
        "\n",
        "train_y = []\n",
        "for train_id in train_list[0:2000]:\n",
        "    train_y.append(get_labels(train_id))\n",
        "valid_y = []\n",
        "for valid_id in valid_list[0:2000]:\n",
        "    valid_y.append(get_labels(valid_id))"
      ],
      "execution_count": null,
      "outputs": [
        {
          "output_type": "stream",
          "text": [
            "label preprocessing\n"
          ],
          "name": "stdout"
        }
      ]
    },
    {
      "cell_type": "code",
      "metadata": {
        "ExecuteTime": {
          "end_time": "2021-06-11T07:51:53.814100Z",
          "start_time": "2021-06-11T07:51:53.707365Z"
        },
        "id": "ywtbEivThD0Q"
      },
      "source": [
        "encoder = MultiLabelBinarizer()\n",
        "encoder.fit(train_y+valid_y)\n",
        "train_y_onehot = encoder.transform(train_y)\n",
        "valid_y_onehot = encoder.transform(valid_y)\n",
        "train_y_onehot = np.delete(train_y_onehot, [2,3,5,6,7,10,12],1) # delete out 8 and \"No Finding\" column\n",
        "valid_y_onehot = np.delete(valid_y_onehot, [2,3,5,6,7,10,12],1) # delete out 8 and \"No Finding\" column"
      ],
      "execution_count": null,
      "outputs": []
    },
    {
      "cell_type": "code",
      "metadata": {
        "ExecuteTime": {
          "end_time": "2021-06-11T07:52:12.947837Z",
          "start_time": "2021-06-11T07:52:12.914890Z"
        },
        "id": "W16h1VJqhD0Q"
      },
      "source": [
        "with open(data_path + \"/train_y_onehot.pkl\",\"wb\") as f:\n",
        "    pickle.dump(train_y_onehot, f)\n",
        "with open(data_path + \"/valid_y_onehot.pkl\",\"wb\") as f:\n",
        "    pickle.dump(valid_y_onehot, f)\n",
        "with open(data_path + \"/label_encoder.pkl\",\"wb\") as f:\n",
        "    pickle.dump(encoder, f)"
      ],
      "execution_count": null,
      "outputs": []
    },
    {
      "cell_type": "code",
      "metadata": {
        "id": "FxvVWneGhD0R"
      },
      "source": [
        ""
      ],
      "execution_count": null,
      "outputs": []
    }
  ]
}