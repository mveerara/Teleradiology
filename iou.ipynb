{
  "nbformat": 4,
  "nbformat_minor": 0,
  "metadata": {
    "colab": {
      "name": "iou.ipynb",
      "provenance": [],
      "authorship_tag": "ABX9TyPhYD87qvbvkuG73CLRaGTv",
      "include_colab_link": true
    },
    "kernelspec": {
      "name": "python3",
      "display_name": "Python 3"
    },
    "language_info": {
      "name": "python"
    }
  },
  "cells": [
    {
      "cell_type": "markdown",
      "metadata": {
        "id": "view-in-github",
        "colab_type": "text"
      },
      "source": [
        "<a href=\"https://colab.research.google.com/github/mveerara/Teleradiology/blob/main/iou.ipynb\" target=\"_parent\"><img src=\"https://colab.research.google.com/assets/colab-badge.svg\" alt=\"Open In Colab\"/></a>"
      ]
    },
    {
      "cell_type": "code",
      "metadata": {
        "id": "hsdjH4tc0pC5"
      },
      "source": [
        "import numpy as np\n",
        "import pandas as pd\n",
        "\n",
        "import collections\n",
        "import os\n",
        "\n",
        "import scipy.ndimage as ndimage\n",
        "from scipy.ndimage import binary_dilation, filters\n"
      ],
      "execution_count": null,
      "outputs": []
    },
    {
      "cell_type": "code",
      "metadata": {
        "colab": {
          "base_uri": "https://localhost:8080/"
        },
        "id": "_iob12VFSDmg",
        "outputId": "5aa659a2-fee8-4363-9fc7-39c5142c96d2"
      },
      "source": [
        "from google.colab import drive\n",
        "drive.mount('/MyDrive')"
      ],
      "execution_count": null,
      "outputs": [
        {
          "output_type": "stream",
          "text": [
            "Mounted at /MyDrive\n"
          ],
          "name": "stdout"
        }
      ]
    },
    {
      "cell_type": "code",
      "metadata": {
        "id": "a9wgZbij1CWL"
      },
      "source": [
        "BBOX_LIST_FNAME = '/MyDrive/MyDrive/Teleradiology/Example_Program/example1/Dataset/BBox_List_2017.csv'\n",
        "VALID_FNAME = '/MyDrive/MyDrive/Teleradiology/Example_Program/example1/Dataset/test_list.txt'\n",
        "CROP_DEL, RESCALE_FACTOR = 16., 4."
      ],
      "execution_count": null,
      "outputs": []
    },
    {
      "cell_type": "code",
      "metadata": {
        "id": "RBBtZwyH_fN6"
      },
      "source": [
        "# class-id mapping\n",
        "class_list = ['Atelectasis', 'Cardiomegaly', 'Effusion', 'Infiltration', 'Mass', 'Nodule', 'Pneumonia', 'Pneumothorax']"
      ],
      "execution_count": null,
      "outputs": []
    },
    {
      "cell_type": "code",
      "metadata": {
        "id": "MCKgLmJr1xA7"
      },
      "source": [
        "#Intersection or Union of bounding box\n",
        "def IOU(xywh1, xywh2):\n",
        "    x1, y1, w1, h1 = xywh1\n",
        "    x2, y2, w2, h2 = xywh2\n",
        "\n",
        "    dx = min(x1+w1, x2+w2) - max(x1, x2)\n",
        "    dy = min(y1+h1, y2+h2) - max(y1, y2)\n",
        "    intersection = dx * dy if (dx >=0 and dy >= 0) else 0.\n",
        "    \n",
        "    union = w1 * h1 + w2 * h2 - intersection\n",
        "    return (intersection / union)"
      ],
      "execution_count": null,
      "outputs": []
    },
    {
      "cell_type": "code",
      "metadata": {
        "id": "bEh6yN3_AHbg"
      },
      "source": [
        "def preprocess_bbox_df(mismatch_id=-1):\n",
        "    # filename-id mapping\n",
        "    with open('valid.txt', 'r') as f:\n",
        "        valid_list = f.readlines()\n",
        "        valid_list = [s.strip('\\n') for s in valid_list]\n",
        "\n",
        "    df = pd.read_csv(BBOX_LIST_FNAME)\n",
        "    \n",
        "    # map file/class name to id\n",
        "    df['Image Index'] = df['Image Index'].apply(lambda x: valid_list.index(x) if x in valid_list else mismatch_id)\n",
        "    #df['Finding Label'] = df['Finding Label'].apply(lambda x: class_list.index(x))\n",
        "    \n",
        "    return df\n"
      ],
      "execution_count": null,
      "outputs": []
    },
    {
      "cell_type": "code",
      "metadata": {
        "id": "iVt4JH6zAJ6m"
      },
      "source": [
        "def validate_score(predicted_xywh, bbox_df, img_id, class_name):\n",
        "    match_row = bbox_df[(bbox_df['Image Index'] == img_id) & (bbox_df['Finding Label'] == class_name)]\n",
        "    try:\n",
        "        assert(len(match_row)<=1)\n",
        "    except:\n",
        "        print('error with query:', match_row)\n",
        "    \n",
        "    # IOU = 0.0 for mismatch cases\n",
        "    if match_row.empty:\n",
        "        return 0.\n",
        "    \n",
        "    ground_truth_xywh = tuple(match_row.iloc[0,2:6])\n",
        "    \n",
        "    return IOU(predicted_xywh, ground_truth_xywh)\n",
        "    "
      ],
      "execution_count": null,
      "outputs": []
    },
    {
      "cell_type": "code",
      "metadata": {
        "id": "jeFudMJVAdPY"
      },
      "source": [
        "def validate_total_score(default_box, valid_dir='/MyDrive/MyDrive/Teleradiology/Example_Program/example1/Dataset/output/valid_heatmap'):\n",
        "    npy_list = os.listdir(valid_dir)\n",
        "    print(npy_list)\n",
        "    with open('/MyDrive/MyDrive/Teleradiology/Example_Program/example1/Dataset/test_list.txt', 'r') as f:\n",
        "        fname_list = f.readlines()\n",
        "        fname_list = [s.strip('\\n') for s in fname_list]\n",
        "        print(fname_list)\n",
        "\n",
        "    prediction_dict = {}\n",
        "    for i in range(440): # why 440\n",
        "        prediction_dict[i] = []\n",
        "\n",
        "    for npy_name in npy_list:\n",
        "        if not npy_name.endswith('.npy'):\n",
        "            continue\n",
        "            \n",
        "        data = np.load(os.path.join(valid_dir, npy_name))\n",
        "        print(data)\n",
        "        img_id = int(npy_name.split('.')[0].split('_')[1])\n",
        "        k = int(npy_name.split('.')[0].split('_')[2])\n",
        "        print(img_id,k)\n",
        "            \n",
        "        # predict default_box\n",
        "        prediction_sent = (class_list[k], default_box[k][0], default_box[k][1], default_box[k][2], default_box[k][3])\n",
        "        prediction_dict[img_id].append(prediction_sent)\n",
        "\n",
        "        if np.isnan(data).any():\n",
        "            continue\n",
        "        \n",
        "        img_width, img_height = 224, 224\n",
        "        w_k, h_k = (default_box[k][2:] * (1 / RESCALE_FACTOR)).astype(np.int)    \n",
        "    \n",
        "        # Find local maxima\n",
        "        neighborhood_size = 100\n",
        "        threshold = .1\n",
        "        \n",
        "        data_max = filters.maximum_filter(data, neighborhood_size)\n",
        "        maxima = (data == data_max)\n",
        "        data_min = filters.minimum_filter(data, neighborhood_size)\n",
        "        diff = ((data_max - data_min) > threshold)\n",
        "        maxima[diff == 0] = 0\n",
        "        for _ in range(5):\n",
        "            maxima = binary_dilation(maxima)\n",
        "        \n",
        "        labeled, num_objects = ndimage.label(maxima)\n",
        "        slices = ndimage.find_objects(labeled)\n",
        "        xy = np.array(ndimage.center_of_mass(data, labeled, range(1, num_objects+1)))\n",
        "        \n",
        "        for pt in xy:\n",
        "            if data[int(pt[0]), int(pt[1])] > np.max(data)*.9:\n",
        "                upper = int(max(pt[0]-(h_k/2), 0.))\n",
        "                left = int(max(pt[1]-(w_k/2), 0.))\n",
        "                \n",
        "                right = int(min(left+w_k, img_width))\n",
        "                lower = int(min(upper+h_k, img_height))\n",
        "                \n",
        "                if lower == img_height and not k in [1]:\n",
        "                    # avoid bbox touching bottom\n",
        "                    continue\n",
        "                elif k in [5]:\n",
        "                    # avoid predicting low acc classes\n",
        "                    continue\n",
        "                else:\n",
        "                    prediction_sent = (class_list[k], (left+CROP_DEL)*RESCALE_FACTOR, (upper+CROP_DEL)*RESCALE_FACTOR,\n",
        "                                       (right-left)*RESCALE_FACTOR, (lower-upper)*RESCALE_FACTOR)\n",
        "                \n",
        "                prediction_dict[img_id].append(prediction_sent)\n",
        "    \n",
        "    # calculate IOU score\n",
        "    bbox_df = preprocess_bbox_df()\n",
        "    \n",
        "    iou_sum = 0.\n",
        "    iou25_count, iou50_count = 0, 0\n",
        "    box_count = 0\n",
        "\n",
        "    for img_id in range(len(prediction_dict)):\n",
        "        for pred in prediction_dict[img_id][:10]:\n",
        "            iou = validate_score(pred[1:], bbox_df, img_id, pred[0])\n",
        "                                 \n",
        "            iou_sum += iou\n",
        "            iou25_count += 1 if iou > .25 else 0\n",
        "            iou50_count += 1 if iou > .50 else 0\n",
        "            box_count = box_count + 1\n",
        "        \n",
        "    iou_avg = iou_sum / box_count\n",
        "    iou25_avg = iou25_count / box_count\n",
        "    iou50_avg = iou50_count / box_count\n",
        "    iou_score = (iou25_avg + iou50_avg) / 2\n",
        "\n",
        "    #print('total box_count =', box_count)\n",
        "    #print('average IOU =', iou_avg)\n",
        "    #print('average score at T(0.25) =', iou25_avg)\n",
        "    #print('average score at T(0.50) =', iou50_avg)\n",
        "    \n",
        "    return iou_score"
      ],
      "execution_count": null,
      "outputs": []
    },
    {
      "cell_type": "code",
      "metadata": {
        "colab": {
          "base_uri": "https://localhost:8080/"
        },
        "id": "vDq6L_6eEymR",
        "outputId": "72808375-98b5-4259-9368-c6dc6963fcaa"
      },
      "source": [
        "if __name__ == '__main__':\n",
        "    print(IOU((3., 3., 2., 2.), (1., 1., 3., 2.5)))"
      ],
      "execution_count": null,
      "outputs": [
        {
          "output_type": "stream",
          "text": [
            "0.045454545454545456\n"
          ],
          "name": "stdout"
        }
      ]
    }
  ]
}